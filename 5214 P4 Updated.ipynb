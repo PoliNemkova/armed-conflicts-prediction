{
 "cells": [
  {
   "cell_type": "code",
   "execution_count": 9,
   "metadata": {},
   "outputs": [],
   "source": [
    "import pandas as pd \n",
    "import sklearn\n",
    "from sklearn.model_selection import train_test_split\n",
    "from sklearn.ensemble import RandomForestClassifier\n",
    "from sklearn import metrics "
   ]
  },
  {
   "cell_type": "code",
   "execution_count": 10,
   "metadata": {},
   "outputs": [],
   "source": [
    "data = '/Users/William/Desktop/Jupyter/P4UpdatedData.csv'\n",
    "data = pd.read_csv(data)"
   ]
  },
  {
   "cell_type": "code",
   "execution_count": 11,
   "metadata": {
    "scrolled": true
   },
   "outputs": [
    {
     "data": {
      "text/html": [
       "<div>\n",
       "<style scoped>\n",
       "    .dataframe tbody tr th:only-of-type {\n",
       "        vertical-align: middle;\n",
       "    }\n",
       "\n",
       "    .dataframe tbody tr th {\n",
       "        vertical-align: top;\n",
       "    }\n",
       "\n",
       "    .dataframe thead th {\n",
       "        text-align: right;\n",
       "    }\n",
       "</style>\n",
       "<table border=\"1\" class=\"dataframe\">\n",
       "  <thead>\n",
       "    <tr style=\"text-align: right;\">\n",
       "      <th></th>\n",
       "      <th>Country Code</th>\n",
       "      <th>Debt</th>\n",
       "      <th>Corruption</th>\n",
       "      <th>Foreign_Investment</th>\n",
       "      <th>GDP</th>\n",
       "      <th>Inflation</th>\n",
       "      <th>Ethnicity</th>\n",
       "      <th>Religion</th>\n",
       "      <th>Unemployment</th>\n",
       "      <th>Infant Mortality</th>\n",
       "      <th>Ongoing Conflict</th>\n",
       "      <th>Future Conflict</th>\n",
       "      <th>Freedom score</th>\n",
       "      <th>Covid-19 deaths</th>\n",
       "    </tr>\n",
       "  </thead>\n",
       "  <tbody>\n",
       "    <tr>\n",
       "      <th>0</th>\n",
       "      <td>UGA</td>\n",
       "      <td>46.341799</td>\n",
       "      <td>26</td>\n",
       "      <td>4.869112</td>\n",
       "      <td>2.274615</td>\n",
       "      <td>2.616012</td>\n",
       "      <td>0.9302</td>\n",
       "      <td>0.6332</td>\n",
       "      <td>1.742</td>\n",
       "      <td>33.8</td>\n",
       "      <td>1</td>\n",
       "      <td>0</td>\n",
       "      <td>34</td>\n",
       "      <td>186</td>\n",
       "    </tr>\n",
       "    <tr>\n",
       "      <th>1</th>\n",
       "      <td>LBR</td>\n",
       "      <td>44.662936</td>\n",
       "      <td>32</td>\n",
       "      <td>3.956181</td>\n",
       "      <td>-1.229760</td>\n",
       "      <td>23.563515</td>\n",
       "      <td>0.9084</td>\n",
       "      <td>0.4883</td>\n",
       "      <td>2.033</td>\n",
       "      <td>53.5</td>\n",
       "      <td>0</td>\n",
       "      <td>0</td>\n",
       "      <td>60</td>\n",
       "      <td>83</td>\n",
       "    </tr>\n",
       "    <tr>\n",
       "      <th>2</th>\n",
       "      <td>MDG</td>\n",
       "      <td>31.758249</td>\n",
       "      <td>25</td>\n",
       "      <td>4.417940</td>\n",
       "      <td>1.810248</td>\n",
       "      <td>7.404192</td>\n",
       "      <td>0.8791</td>\n",
       "      <td>0.5191</td>\n",
       "      <td>1.659</td>\n",
       "      <td>38.2</td>\n",
       "      <td>0</td>\n",
       "      <td>0</td>\n",
       "      <td>61</td>\n",
       "      <td>251</td>\n",
       "    </tr>\n",
       "    <tr>\n",
       "      <th>3</th>\n",
       "      <td>COD</td>\n",
       "      <td>10.941273</td>\n",
       "      <td>20</td>\n",
       "      <td>2.720115</td>\n",
       "      <td>2.399911</td>\n",
       "      <td>2.885851</td>\n",
       "      <td>0.8747</td>\n",
       "      <td>0.7021</td>\n",
       "      <td>4.155</td>\n",
       "      <td>68.2</td>\n",
       "      <td>1</td>\n",
       "      <td>0</td>\n",
       "      <td>18</td>\n",
       "      <td>131</td>\n",
       "    </tr>\n",
       "    <tr>\n",
       "      <th>4</th>\n",
       "      <td>COG</td>\n",
       "      <td>51.126024</td>\n",
       "      <td>19</td>\n",
       "      <td>38.292482</td>\n",
       "      <td>-1.549244</td>\n",
       "      <td>0.450064</td>\n",
       "      <td>0.8747</td>\n",
       "      <td>0.6642</td>\n",
       "      <td>10.382</td>\n",
       "      <td>36.2</td>\n",
       "      <td>0</td>\n",
       "      <td>0</td>\n",
       "      <td>20</td>\n",
       "      <td>93</td>\n",
       "    </tr>\n",
       "  </tbody>\n",
       "</table>\n",
       "</div>"
      ],
      "text/plain": [
       "  Country Code       Debt  Corruption  Foreign_Investment       GDP  \\\n",
       "0          UGA  46.341799          26            4.869112  2.274615   \n",
       "1          LBR  44.662936          32            3.956181 -1.229760   \n",
       "2          MDG  31.758249          25            4.417940  1.810248   \n",
       "3          COD  10.941273          20            2.720115  2.399911   \n",
       "4          COG  51.126024          19           38.292482 -1.549244   \n",
       "\n",
       "   Inflation  Ethnicity  Religion  Unemployment  Infant Mortality  \\\n",
       "0   2.616012     0.9302    0.6332         1.742              33.8   \n",
       "1  23.563515     0.9084    0.4883         2.033              53.5   \n",
       "2   7.404192     0.8791    0.5191         1.659              38.2   \n",
       "3   2.885851     0.8747    0.7021         4.155              68.2   \n",
       "4   0.450064     0.8747    0.6642        10.382              36.2   \n",
       "\n",
       "   Ongoing Conflict  Future Conflict  Freedom score  Covid-19 deaths  \n",
       "0                 1                0             34              186  \n",
       "1                 0                0             60               83  \n",
       "2                 0                0             61              251  \n",
       "3                 1                0             18              131  \n",
       "4                 0                0             20               93  "
      ]
     },
     "execution_count": 11,
     "metadata": {},
     "output_type": "execute_result"
    }
   ],
   "source": [
    "data.head()"
   ]
  },
  {
   "cell_type": "code",
   "execution_count": 12,
   "metadata": {
    "scrolled": false
   },
   "outputs": [],
   "source": [
    "#X = data[['Debt', 'Account Balance', 'Corruption', 'Foreign_Investment', 'GDP', 'Inflation',]]\n",
    "X = data.drop(['Country Code', 'Future Conflict'], axis = 1)\n",
    "y = data['Ongoing Conflict']\n",
    "X_train, X_test, y_train, y_test = train_test_split(X, y, test_size = 0.2)"
   ]
  },
  {
   "cell_type": "code",
   "execution_count": 13,
   "metadata": {},
   "outputs": [
    {
     "name": "stdout",
     "output_type": "stream",
     "text": [
      "Accuracy: 1.0\n"
     ]
    }
   ],
   "source": [
    "clf = RandomForestClassifier(n_estimators = 100)\n",
    "clf.fit(X_train, y_train)\n",
    "y_pred = clf.predict(X_test)\n",
    "print(\"Accuracy:\", metrics.accuracy_score(y_test, y_pred))"
   ]
  },
  {
   "cell_type": "code",
   "execution_count": null,
   "metadata": {},
   "outputs": [],
   "source": []
  }
 ],
 "metadata": {
  "kernelspec": {
   "display_name": "Python 3",
   "language": "python",
   "name": "python3"
  },
  "language_info": {
   "codemirror_mode": {
    "name": "ipython",
    "version": 3
   },
   "file_extension": ".py",
   "mimetype": "text/x-python",
   "name": "python",
   "nbconvert_exporter": "python",
   "pygments_lexer": "ipython3",
   "version": "3.8.3"
  }
 },
 "nbformat": 4,
 "nbformat_minor": 4
}
